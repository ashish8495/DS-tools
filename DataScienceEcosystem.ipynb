{
 "cells": [
  {
   "cell_type": "markdown",
   "id": "50b50442",
   "metadata": {},
   "source": [
    "# Data Sciecne tool and Ecosystem"
   ]
  },
  {
   "cell_type": "markdown",
   "id": "81b8675a",
   "metadata": {},
   "source": [
    "# In this notebook, Data Science Tools and Ecosystem are summerized."
   ]
  },
  {
   "cell_type": "markdown",
   "id": "a7415897",
   "metadata": {},
   "source": [
    "**Objectives:**\n",
    "\n",
    "    - Python\n",
    "    - R\n",
    "    - Scala\n",
    "    - C++"
   ]
  },
  {
   "cell_type": "markdown",
   "id": "6cb38780",
   "metadata": {},
   "source": [
    "## Some of the popular languages that Data Scientists use are: \n",
    "1. Python\n",
    "2. R\n",
    "3. Scala\n",
    "4. SQL"
   ]
  },
  {
   "cell_type": "markdown",
   "id": "cb27ac36",
   "metadata": {},
   "source": [
    "## Some of the commonly used libraries used by Data Scientists include:\n",
    "1. Pandas\n",
    "2. Numpy\n",
    "3. Scikit-learn\n",
    "4. seaborn\n",
    "5. TenserFlow\n",
    "6. ggplot2"
   ]
  },
  {
   "cell_type": "markdown",
   "id": "4033f515",
   "metadata": {},
   "source": [
    "|Data Science Tools|\n",
    "|------------------|\n",
    "|TenserFlow|\n",
    "|Apache Hadoop|\n",
    "|Apache Spark|\n",
    "|Rapidminer|"
   ]
  },
  {
   "cell_type": "markdown",
   "id": "91362068",
   "metadata": {},
   "source": [
    "### Below are a few examples of evaluating arithmatic expressions in Python"
   ]
  },
  {
   "cell_type": "code",
   "execution_count": 5,
   "id": "58644716",
   "metadata": {},
   "outputs": [
    {
     "data": {
      "text/plain": [
       "17"
      ]
     },
     "execution_count": 5,
     "metadata": {},
     "output_type": "execute_result"
    }
   ],
   "source": [
    "# This is a simple arithmatic expression to multiply then add integers\n",
    "(3*4)+5"
   ]
  },
  {
   "cell_type": "code",
   "execution_count": 7,
   "id": "53b0599e",
   "metadata": {},
   "outputs": [
    {
     "name": "stdout",
     "output_type": "stream",
     "text": [
      "3.3333333333333335\n"
     ]
    }
   ],
   "source": [
    "no_of_min = 200\n",
    "hours = 200/60\n",
    "print(hours)\n",
    "# this will convert 200 minutes to hours by dividing by 60."
   ]
  },
  {
   "cell_type": "markdown",
   "id": "95544e80",
   "metadata": {},
   "source": [
    "## Auther\n",
    "Ashish Suryawanshi"
   ]
  },
  {
   "cell_type": "code",
   "execution_count": null,
   "id": "18d64a7c",
   "metadata": {},
   "outputs": [],
   "source": []
  }
 ],
 "metadata": {
  "kernelspec": {
   "display_name": "Python 3 (ipykernel)",
   "language": "python",
   "name": "python3"
  },
  "language_info": {
   "codemirror_mode": {
    "name": "ipython",
    "version": 3
   },
   "file_extension": ".py",
   "mimetype": "text/x-python",
   "name": "python",
   "nbconvert_exporter": "python",
   "pygments_lexer": "ipython3",
   "version": "3.10.9"
  }
 },
 "nbformat": 4,
 "nbformat_minor": 5
}
